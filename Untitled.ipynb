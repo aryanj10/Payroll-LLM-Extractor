{
 "cells": [
  {
   "cell_type": "code",
   "execution_count": 1,
   "id": "3c29511f",
   "metadata": {},
   "outputs": [
    {
     "name": "stdout",
     "output_type": "stream",
     "text": [
      "✅ Extracted: 2025-01-03 1 Payroll Set → Extracted\\NewBaltimore-12-14-2024_12-27-2024_01-03-2025\\employee_data.json\n",
      "✅ Extracted: 2025-01-17 3 Payroll Set → Extracted\\NewBaltimore-12-28-2024_01-10-2025_01-17-2025\\employee_data.json\n",
      "✅ Extracted: 2025-01-31 4 Payroll Set → Extracted\\NewBaltimore-01-11-2025_01-24-2025_01-31-2025\\employee_data.json\n",
      "✅ Extracted: 2025-02-14 5 Payroll Set → Extracted\\NewBaltimore-01-25-2025_02-07-2025_02-14-2025\\employee_data.json\n",
      "✅ Extracted: 2025-02-28 6 Payroll Set → Extracted\\NewBaltimore-02-08-2025_02-21-2025_02-28-2025\\employee_data.json\n",
      "✅ Extracted: 2025-03-14 7 Payroll Set → Extracted\\NewBaltimore-02-22-2025_03-07-2025_03-14-2025\\employee_data.json\n",
      "✅ Extracted: 2025-03-28 8 Payroll Set → Extracted\\NewBaltimore-03-08-2025_03-21-2025_03-28-2025\\employee_data.json\n",
      "✅ Extracted: 2025-03-31 2 Payroll Set → Extracted\\NewBaltimore-01-01-2025_03-31-2025_03-31-2025\\employee_data.json\n",
      "✅ Extracted: 2025-04-11 9 Payroll Set → Extracted\\NewBaltimore-03-22-2025_04-04-2025_04-11-2025\\employee_data.json\n",
      "✅ Extracted: 2025-04-25 11 Payroll Set → Extracted\\NewBaltimore-04-05-2025_04-18-2025_04-25-2025\\employee_data.json\n",
      "✅ Extracted: 2025-05-09 12 Payroll Set → Extracted\\NewBaltimore-04-19-2025_05-02-2025_05-09-2025\\employee_data.json\n"
     ]
    }
   ],
   "source": [
    "import os\n",
    "import re\n",
    "import json\n",
    "import fitz  # PyMuPDF\n",
    "from striprtf.striprtf import rtf_to_text\n",
    "\n",
    "# === Paths ===\n",
    "input_folder = \"Extract_data_from_rtf/rtfpdffilesfornewbaltimore\"\n",
    "output_base = \"Extracted\"\n",
    "\n",
    "# Ensure output folder exists\n",
    "os.makedirs(output_base, exist_ok=True)\n",
    "\n",
    "# === Helper Function to Extract Pay Period Info from PDF ===\n",
    "def extract_pay_period_from_pdf(pdf_path):\n",
    "    doc = fitz.open(pdf_path)\n",
    "    text = \"\"\n",
    "    for page in doc:\n",
    "        text += page.get_text()\n",
    "\n",
    "    pattern = re.compile(\n",
    "        r\"Payroll\\s+Register\\s+Report.*?\"\n",
    "        r\"Pay\\s*Period\\s*From\\s*(\\d{1,2}/\\d{1,2}/\\d{4})\\s*to\\s*(\\d{1,2}/\\d{1,2}/\\d{4})\"\n",
    "        r\".*?Pay\\s*Date[:\\s]*([\\d/]+)\",\n",
    "        re.IGNORECASE | re.DOTALL\n",
    "    )\n",
    "\n",
    "    match = pattern.search(text)\n",
    "    if match:\n",
    "        return match.group(1), match.group(2), match.group(3)\n",
    "    else:\n",
    "        return None, None, None\n",
    "\n",
    "# === Helper Function to Extract Employees from RTF ===\n",
    "def extract_employees_from_rtf(rtf_path):\n",
    "    with open(rtf_path, \"r\", encoding=\"utf-8\") as f:\n",
    "        rtf_content = f.read()\n",
    "\n",
    "    text = rtf_to_text(rtf_content)\n",
    "    employee_blocks = re.split(r\"\\bEmp#\\s*\\d+\\b\", text)\n",
    "    employee_ids = re.findall(r\"\\bEmp#\\s*(\\d+)\\b\", text)\n",
    "\n",
    "    cleaned_employees = []\n",
    "\n",
    "    for emp_id, block in zip(employee_ids, employee_blocks[1:]):\n",
    "        lines = block.splitlines()\n",
    "        cleaned_lines = []\n",
    "        for line in lines:\n",
    "            cleaned_lines.append(line)\n",
    "            if \"Employee Tot:\" in line:\n",
    "                break\n",
    "        cleaned_block = \"\\n\".join(cleaned_lines).strip()\n",
    "        if cleaned_block:\n",
    "            cleaned_employees.append({\n",
    "                \"Emp#\": emp_id,\n",
    "                \"Block\": cleaned_block\n",
    "            })\n",
    "\n",
    "    return cleaned_employees\n",
    "\n",
    "# === Main Loop ===\n",
    "for file in os.listdir(input_folder):\n",
    "    if file.endswith(\".pdf\"):\n",
    "        base_name = os.path.splitext(file)[0]\n",
    "        pdf_path = os.path.join(input_folder, file)\n",
    "        rtf_path = os.path.join(input_folder, base_name + \".rtf\")\n",
    "\n",
    "        if not os.path.exists(rtf_path):\n",
    "            print(f\"⚠️ RTF file missing for: {base_name}\")\n",
    "            continue\n",
    "\n",
    "        # Extract Pay Period Info\n",
    "        pay_start, pay_end, pay_date = extract_pay_period_from_pdf(pdf_path)\n",
    "        if not all([pay_start, pay_end, pay_date]):\n",
    "            print(f\"❌ Could not extract pay period from PDF: {pdf_path}\")\n",
    "            continue\n",
    "\n",
    "        # Clean dates for folder name\n",
    "        folder_name = f\"NewBaltimore-{pay_start.replace('/', '-')}_{pay_end.replace('/', '-')}_{pay_date.replace('/', '-')}\"\n",
    "        output_dir = os.path.join(output_base, folder_name)\n",
    "        os.makedirs(output_dir, exist_ok=True)\n",
    "\n",
    "        # Extract employee blocks\n",
    "        employee_data = extract_employees_from_rtf(rtf_path)\n",
    "\n",
    "        # Save as JSON\n",
    "        output_json_path = os.path.join(output_dir, \"employee_data.json\")\n",
    "        with open(output_json_path, \"w\", encoding=\"utf-8\") as f:\n",
    "            json.dump(employee_data, f, indent=2)\n",
    "\n",
    "        print(f\"✅ Extracted: {base_name} → {output_json_path}\")\n"
   ]
  },
  {
   "cell_type": "code",
   "execution_count": 3,
   "id": "3c4f19e8",
   "metadata": {},
   "outputs": [
    {
     "data": {
      "text/plain": [
       "224"
      ]
     },
     "execution_count": 3,
     "metadata": {},
     "output_type": "execute_result"
    }
   ],
   "source": [
    "total_chunks = sum(len(json.load(open(os.path.join(\"Extracted\", folder, \"employee_data.json\"))))\n",
    "                   for folder in os.listdir(\"Extracted\")\n",
    "                   if os.path.isdir(os.path.join(\"Extracted\", folder)) and\n",
    "                   os.path.exists(os.path.join(\"Extracted\", folder, \"employee_data.json\")))\n",
    "total_chunks"
   ]
  }
 ],
 "metadata": {
  "kernelspec": {
   "display_name": "Python 3 (ipykernel)",
   "language": "python",
   "name": "python3"
  },
  "language_info": {
   "codemirror_mode": {
    "name": "ipython",
    "version": 3
   },
   "file_extension": ".py",
   "mimetype": "text/x-python",
   "name": "python",
   "nbconvert_exporter": "python",
   "pygments_lexer": "ipython3",
   "version": "3.9.13"
  }
 },
 "nbformat": 4,
 "nbformat_minor": 5
}
